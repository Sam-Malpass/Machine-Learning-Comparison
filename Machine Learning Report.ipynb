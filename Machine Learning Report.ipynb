{
 "cells": [
  {
   "cell_type": "markdown",
   "metadata": {},
   "source": [
    "# Machine Learning Report"
   ]
  },
  {
   "cell_type": "code",
   "execution_count": 25,
   "metadata": {},
   "outputs": [],
   "source": [
    "import numpy as np\n",
    "import pandas as pd\n",
    "\n",
    "import seaborn as sns\n",
    "import matplotlib.pyplot as plt\n",
    "import math\n",
    "\n",
    "from sklearn.model_selection import train_test_split\n",
    "from sklearn.cluster import KMeans\n",
    "from sklearn.neighbors import KNeighborsClassifier\n",
    "from sklearn.model_selection import cross_val_score \n",
    "from sklearn.model_selection import GridSearchCV \n",
    "from sklearn.svm import SVC\n",
    "\n",
    "from sklearn.decomposition import PCA\n",
    "from sklearn.preprocessing import StandardScaler\n",
    "from sklearn.preprocessing import MinMaxScaler\n",
    "from sklearn import preprocessing\n",
    "\n",
    "import warnings"
   ]
  },
  {
   "cell_type": "markdown",
   "metadata": {},
   "source": [
    "## Contents\n",
    "- Loading the data\n",
    "- Experimenting with the data\n",
    "    - PCA\n",
    "    - Regularisation\n",
    "        - Using Preprocessing\n",
    "        - Using MinMax Scaling\n",
    "- Deep Learning Approach\n",
    "- Classical Learning Approaches\n",
    "    - Supervised Learning\n",
    "        - K-Nearest Neighbours\n",
    "        - Support Vector Machine\n",
    "    - Unsupervised Learning\n",
    "        - K-Means"
   ]
  },
  {
   "cell_type": "markdown",
   "metadata": {},
   "source": [
    "## Loading the data"
   ]
  },
  {
   "cell_type": "code",
   "execution_count": 2,
   "metadata": {},
   "outputs": [],
   "source": [
    "atlas_labels = pd.read_csv(\"ATLAS-labels.csv\", header=None)\n",
    "atlas_data = pd.read_csv(\"ATLAS-data.csv\", header=None)"
   ]
  },
  {
   "cell_type": "code",
   "execution_count": 3,
   "metadata": {},
   "outputs": [
    {
     "data": {
      "text/html": [
       "<div>\n",
       "<style scoped>\n",
       "    .dataframe tbody tr th:only-of-type {\n",
       "        vertical-align: middle;\n",
       "    }\n",
       "\n",
       "    .dataframe tbody tr th {\n",
       "        vertical-align: top;\n",
       "    }\n",
       "\n",
       "    .dataframe thead th {\n",
       "        text-align: right;\n",
       "    }\n",
       "</style>\n",
       "<table border=\"1\" class=\"dataframe\">\n",
       "  <thead>\n",
       "    <tr style=\"text-align: right;\">\n",
       "      <th></th>\n",
       "      <th>0</th>\n",
       "      <th>1</th>\n",
       "      <th>2</th>\n",
       "      <th>3</th>\n",
       "      <th>4</th>\n",
       "      <th>5</th>\n",
       "      <th>6</th>\n",
       "      <th>7</th>\n",
       "      <th>8</th>\n",
       "      <th>9</th>\n",
       "      <th>...</th>\n",
       "      <th>20</th>\n",
       "      <th>21</th>\n",
       "      <th>22</th>\n",
       "      <th>23</th>\n",
       "      <th>24</th>\n",
       "      <th>25</th>\n",
       "      <th>26</th>\n",
       "      <th>27</th>\n",
       "      <th>28</th>\n",
       "      <th>29</th>\n",
       "    </tr>\n",
       "  </thead>\n",
       "  <tbody>\n",
       "    <tr>\n",
       "      <td>0</td>\n",
       "      <td>243.128</td>\n",
       "      <td>96.455</td>\n",
       "      <td>158.618</td>\n",
       "      <td>90.253</td>\n",
       "      <td>0.693</td>\n",
       "      <td>56.238</td>\n",
       "      <td>1.581</td>\n",
       "      <td>3.615</td>\n",
       "      <td>13.597</td>\n",
       "      <td>264.586</td>\n",
       "      <td>...</td>\n",
       "      <td>2.121</td>\n",
       "      <td>376.410</td>\n",
       "      <td>3.0</td>\n",
       "      <td>46.248</td>\n",
       "      <td>-0.958</td>\n",
       "      <td>-0.444</td>\n",
       "      <td>42.759</td>\n",
       "      <td>-1.651</td>\n",
       "      <td>-1.445</td>\n",
       "      <td>157.638</td>\n",
       "    </tr>\n",
       "    <tr>\n",
       "      <td>1</td>\n",
       "      <td>139.751</td>\n",
       "      <td>74.028</td>\n",
       "      <td>111.619</td>\n",
       "      <td>44.266</td>\n",
       "      <td>2.119</td>\n",
       "      <td>104.723</td>\n",
       "      <td>-0.498</td>\n",
       "      <td>2.533</td>\n",
       "      <td>9.437</td>\n",
       "      <td>168.638</td>\n",
       "      <td>...</td>\n",
       "      <td>0.447</td>\n",
       "      <td>252.698</td>\n",
       "      <td>2.0</td>\n",
       "      <td>36.798</td>\n",
       "      <td>0.269</td>\n",
       "      <td>-1.254</td>\n",
       "      <td>31.816</td>\n",
       "      <td>-1.849</td>\n",
       "      <td>0.664</td>\n",
       "      <td>68.614</td>\n",
       "    </tr>\n",
       "    <tr>\n",
       "      <td>2</td>\n",
       "      <td>116.217</td>\n",
       "      <td>73.136</td>\n",
       "      <td>59.239</td>\n",
       "      <td>101.850</td>\n",
       "      <td>0.625</td>\n",
       "      <td>85.539</td>\n",
       "      <td>2.979</td>\n",
       "      <td>1.922</td>\n",
       "      <td>28.049</td>\n",
       "      <td>202.636</td>\n",
       "      <td>...</td>\n",
       "      <td>1.816</td>\n",
       "      <td>271.485</td>\n",
       "      <td>2.0</td>\n",
       "      <td>82.453</td>\n",
       "      <td>2.066</td>\n",
       "      <td>-1.210</td>\n",
       "      <td>58.216</td>\n",
       "      <td>1.442</td>\n",
       "      <td>-2.288</td>\n",
       "      <td>140.669</td>\n",
       "    </tr>\n",
       "    <tr>\n",
       "      <td>3</td>\n",
       "      <td>64.544</td>\n",
       "      <td>0.099</td>\n",
       "      <td>28.945</td>\n",
       "      <td>341.418</td>\n",
       "      <td>2.390</td>\n",
       "      <td>358.936</td>\n",
       "      <td>-1.181</td>\n",
       "      <td>0.714</td>\n",
       "      <td>35.293</td>\n",
       "      <td>508.349</td>\n",
       "      <td>...</td>\n",
       "      <td>-2.409</td>\n",
       "      <td>470.806</td>\n",
       "      <td>3.0</td>\n",
       "      <td>331.152</td>\n",
       "      <td>-1.693</td>\n",
       "      <td>0.615</td>\n",
       "      <td>41.742</td>\n",
       "      <td>0.697</td>\n",
       "      <td>1.083</td>\n",
       "      <td>409.977</td>\n",
       "    </tr>\n",
       "    <tr>\n",
       "      <td>4</td>\n",
       "      <td>32.281</td>\n",
       "      <td>67.393</td>\n",
       "      <td>26.006</td>\n",
       "      <td>29.088</td>\n",
       "      <td>1.330</td>\n",
       "      <td>108.191</td>\n",
       "      <td>-0.362</td>\n",
       "      <td>0.846</td>\n",
       "      <td>48.389</td>\n",
       "      <td>152.087</td>\n",
       "      <td>...</td>\n",
       "      <td>-1.421</td>\n",
       "      <td>244.220</td>\n",
       "      <td>2.0</td>\n",
       "      <td>48.198</td>\n",
       "      <td>0.949</td>\n",
       "      <td>1.517</td>\n",
       "      <td>40.382</td>\n",
       "      <td>-0.382</td>\n",
       "      <td>-2.029</td>\n",
       "      <td>88.580</td>\n",
       "    </tr>\n",
       "  </tbody>\n",
       "</table>\n",
       "<p>5 rows × 30 columns</p>\n",
       "</div>"
      ],
      "text/plain": [
       "        0       1        2        3      4        5      6      7       8   \\\n",
       "0  243.128  96.455  158.618   90.253  0.693   56.238  1.581  3.615  13.597   \n",
       "1  139.751  74.028  111.619   44.266  2.119  104.723 -0.498  2.533   9.437   \n",
       "2  116.217  73.136   59.239  101.850  0.625   85.539  2.979  1.922  28.049   \n",
       "3   64.544   0.099   28.945  341.418  2.390  358.936 -1.181  0.714  35.293   \n",
       "4   32.281  67.393   26.006   29.088  1.330  108.191 -0.362  0.846  48.389   \n",
       "\n",
       "        9   ...     20       21   22       23     24     25      26     27  \\\n",
       "0  264.586  ...  2.121  376.410  3.0   46.248 -0.958 -0.444  42.759 -1.651   \n",
       "1  168.638  ...  0.447  252.698  2.0   36.798  0.269 -1.254  31.816 -1.849   \n",
       "2  202.636  ...  1.816  271.485  2.0   82.453  2.066 -1.210  58.216  1.442   \n",
       "3  508.349  ... -2.409  470.806  3.0  331.152 -1.693  0.615  41.742  0.697   \n",
       "4  152.087  ... -1.421  244.220  2.0   48.198  0.949  1.517  40.382 -0.382   \n",
       "\n",
       "      28       29  \n",
       "0 -1.445  157.638  \n",
       "1  0.664   68.614  \n",
       "2 -2.288  140.669  \n",
       "3  1.083  409.977  \n",
       "4 -2.029   88.580  \n",
       "\n",
       "[5 rows x 30 columns]"
      ]
     },
     "execution_count": 3,
     "metadata": {},
     "output_type": "execute_result"
    }
   ],
   "source": [
    "atlas_data.head()"
   ]
  },
  {
   "cell_type": "markdown",
   "metadata": {},
   "source": [
    "### Experimenting with the Data"
   ]
  },
  {
   "cell_type": "markdown",
   "metadata": {},
   "source": [
    "#### Principal Component Analysis"
   ]
  },
  {
   "cell_type": "code",
   "execution_count": 23,
   "metadata": {},
   "outputs": [],
   "source": [
    "scaler = StandardScaler()\n",
    "scaler.fit(atlas_data)\n",
    "atlas_processed = scaler.transform(atlas_data)"
   ]
  },
  {
   "cell_type": "code",
   "execution_count": 25,
   "metadata": {},
   "outputs": [
    {
     "data": {
      "text/plain": [
       "(10000, 17)"
      ]
     },
     "execution_count": 25,
     "metadata": {},
     "output_type": "execute_result"
    }
   ],
   "source": [
    "pca = PCA(.95)\n",
    "pca.fit(atlas_processed)\n",
    "atlas_processed = pca.transform(atlas_processed)\n",
    "atlas_processed.shape"
   ]
  },
  {
   "cell_type": "markdown",
   "metadata": {},
   "source": [
    "#### Reguralization"
   ]
  },
  {
   "cell_type": "markdown",
   "metadata": {},
   "source": [
    "##### Using preprocessing"
   ]
  },
  {
   "cell_type": "code",
   "execution_count": 41,
   "metadata": {},
   "outputs": [],
   "source": [
    "atlas_processed = preprocessing.scale(atlas_data)"
   ]
  },
  {
   "cell_type": "markdown",
   "metadata": {},
   "source": [
    "##### Using MinMax Scaling"
   ]
  },
  {
   "cell_type": "code",
   "execution_count": 4,
   "metadata": {},
   "outputs": [],
   "source": [
    "scaling = MinMaxScaler(feature_range=(-1,1)).fit(atlas_data)\n",
    "atlas_processed = scaling.transform(atlas_data)"
   ]
  },
  {
   "cell_type": "markdown",
   "metadata": {},
   "source": [
    "## Deep Learning Approach"
   ]
  },
  {
   "cell_type": "code",
   "execution_count": null,
   "metadata": {},
   "outputs": [],
   "source": []
  },
  {
   "cell_type": "markdown",
   "metadata": {},
   "source": [
    "## Classical Approaches"
   ]
  },
  {
   "cell_type": "markdown",
   "metadata": {},
   "source": [
    "### Supervised"
   ]
  },
  {
   "cell_type": "markdown",
   "metadata": {},
   "source": [
    "#### K-Nearest Neigbours"
   ]
  },
  {
   "cell_type": "code",
   "execution_count": 5,
   "metadata": {},
   "outputs": [],
   "source": [
    "KNN_Data = atlas_processed\n",
    "KNN_Labels = atlas_labels.to_numpy()"
   ]
  },
  {
   "cell_type": "code",
   "execution_count": 6,
   "metadata": {},
   "outputs": [],
   "source": [
    "knn_train_values, knn_test_values, knn_train_labels, knn_test_labels = train_test_split(KNN_Data, KNN_Labels, test_size=0.2)"
   ]
  },
  {
   "cell_type": "code",
   "execution_count": 7,
   "metadata": {},
   "outputs": [],
   "source": [
    "search_max_val = 10"
   ]
  },
  {
   "cell_type": "code",
   "execution_count": 8,
   "metadata": {},
   "outputs": [
    {
     "data": {
      "text/plain": [
       "{'n_neighbors': 8}"
      ]
     },
     "execution_count": 8,
     "metadata": {},
     "output_type": "execute_result"
    }
   ],
   "source": [
    "warnings.simplefilter('ignore')\n",
    "knn_model = KNeighborsClassifier(n_neighbors=5, algorithm='ball_tree')\n",
    "grid = {\"n_neighbors\":range(1,search_max_val)}\n",
    "knn_model_cv = GridSearchCV(knn_model, grid, cv=10, iid=False, n_jobs=-1)\n",
    "knn_model_cv.fit(KNN_Data, KNN_Labels)\n",
    "knn_model_cv.best_params_"
   ]
  },
  {
   "cell_type": "code",
   "execution_count": 9,
   "metadata": {},
   "outputs": [
    {
     "data": {
      "text/plain": [
       "KNeighborsClassifier(algorithm='ball_tree', leaf_size=30, metric='minkowski',\n",
       "                     metric_params=None, n_jobs=None, n_neighbors=8, p=2,\n",
       "                     weights='uniform')"
      ]
     },
     "execution_count": 9,
     "metadata": {},
     "output_type": "execute_result"
    }
   ],
   "source": [
    "knn_model_final = KNeighborsClassifier(n_neighbors=knn_model_cv.best_params_['n_neighbors'], algorithm='ball_tree')\n",
    "knn_model_final.fit(knn_train_values, knn_train_labels)"
   ]
  },
  {
   "cell_type": "code",
   "execution_count": 10,
   "metadata": {},
   "outputs": [],
   "source": [
    "knn_score = knn_model_final.score(knn_test_values, knn_test_labels)"
   ]
  },
  {
   "cell_type": "code",
   "execution_count": 11,
   "metadata": {},
   "outputs": [
    {
     "name": "stdout",
     "output_type": "stream",
     "text": [
      "Score for KNN is  0.6815\n"
     ]
    }
   ],
   "source": [
    "print(\"Score for KNN is \",knn_score)"
   ]
  },
  {
   "cell_type": "markdown",
   "metadata": {},
   "source": [
    "#### Support Vector Machine - SVM"
   ]
  },
  {
   "cell_type": "code",
   "execution_count": 12,
   "metadata": {},
   "outputs": [],
   "source": [
    "SVM_Data = atlas_processed\n",
    "SVM_Labels = atlas_labels.to_numpy()"
   ]
  },
  {
   "cell_type": "code",
   "execution_count": 13,
   "metadata": {},
   "outputs": [],
   "source": [
    "svm_train_values, svm_test_values, svm_train_labels, svm_test_labels = train_test_split(SVM_Data, SVM_Labels, test_size=0.2)"
   ]
  },
  {
   "cell_type": "code",
   "execution_count": 14,
   "metadata": {},
   "outputs": [],
   "source": [
    "search_max_val = 10"
   ]
  },
  {
   "cell_type": "code",
   "execution_count": 15,
   "metadata": {},
   "outputs": [],
   "source": [
    "svm_model_lin = SVC(kernel=\"linear\")\n"
   ]
  },
  {
   "cell_type": "code",
   "execution_count": 16,
   "metadata": {},
   "outputs": [
    {
     "data": {
      "text/plain": [
       "{'C': 5}"
      ]
     },
     "execution_count": 16,
     "metadata": {},
     "output_type": "execute_result"
    }
   ],
   "source": [
    "grid = {\"C\":range(1,search_max_val)}\n",
    "\n",
    "svm_model_cv = GridSearchCV(svm_model_lin, grid, cv=10, iid=False, n_jobs=-1)\n",
    "svm_model_cv.fit(svm_train_values, svm_train_labels)\n",
    "svm_model_cv.best_params_"
   ]
  },
  {
   "cell_type": "code",
   "execution_count": 17,
   "metadata": {},
   "outputs": [
    {
     "name": "stdout",
     "output_type": "stream",
     "text": [
      "Score for Linear SVM is  0.733\n"
     ]
    }
   ],
   "source": [
    "svm_model_lin_final = SVC(C=svm_model_cv.best_params_['C'],kernel=\"linear\")\n",
    "svm_model_lin_final.fit(svm_train_values, svm_train_labels)\n",
    "svm_lin_score = svm_model_lin_final.score(svm_test_values, svm_test_labels)\n",
    "print(\"Score for Linear SVM is \",svm_lin_score)"
   ]
  },
  {
   "cell_type": "code",
   "execution_count": 18,
   "metadata": {},
   "outputs": [],
   "source": [
    "svm_model_rbf = SVC(kernel=\"rbf\")"
   ]
  },
  {
   "cell_type": "code",
   "execution_count": 19,
   "metadata": {},
   "outputs": [
    {
     "data": {
      "text/plain": [
       "{'C': 9}"
      ]
     },
     "execution_count": 19,
     "metadata": {},
     "output_type": "execute_result"
    }
   ],
   "source": [
    "grid = {\"C\":range(1,search_max_val)}\n",
    "\n",
    "svm_model_cv = GridSearchCV(svm_model_rbf, grid, cv=10, iid=False)\n",
    "svm_model_cv.fit(svm_train_values, svm_train_labels)\n",
    "svm_model_cv.best_params_"
   ]
  },
  {
   "cell_type": "code",
   "execution_count": 21,
   "metadata": {},
   "outputs": [
    {
     "name": "stdout",
     "output_type": "stream",
     "text": [
      "Score for RBF SVM is  0.733\n"
     ]
    }
   ],
   "source": [
    "svm_model_rbf_final = SVC(C=svm_model_cv.best_params_['C'],kernel=\"linear\")\n",
    "svm_model_rbf_final.fit(svm_train_values, svm_train_labels)\n",
    "svm_rbf_score = svm_model_rbf_final.score(svm_test_values, svm_test_labels)\n",
    "print(\"Score for RBF SVM is \",svm_rbf_score)"
   ]
  },
  {
   "cell_type": "markdown",
   "metadata": {},
   "source": [
    "### Unsupervised"
   ]
  },
  {
   "cell_type": "markdown",
   "metadata": {},
   "source": [
    "#### K-Means Clustering"
   ]
  },
  {
   "cell_type": "code",
   "execution_count": 22,
   "metadata": {},
   "outputs": [],
   "source": [
    "KMEANS_Data = atlas_processed\n",
    "KMEAN_Labels = atlas_labels.to_numpy()"
   ]
  },
  {
   "cell_type": "code",
   "execution_count": 23,
   "metadata": {},
   "outputs": [],
   "source": [
    "numClusters = 2\n",
    "iterations = 100"
   ]
  },
  {
   "cell_type": "code",
   "execution_count": 26,
   "metadata": {},
   "outputs": [],
   "source": [
    "kmeans_model = KMeans(numClusters, max_iter=iterations)"
   ]
  },
  {
   "cell_type": "code",
   "execution_count": 27,
   "metadata": {},
   "outputs": [
    {
     "data": {
      "text/plain": [
       "KMeans(algorithm='auto', copy_x=True, init='k-means++', max_iter=100,\n",
       "       n_clusters=2, n_init=10, n_jobs=None, precompute_distances='auto',\n",
       "       random_state=None, tol=0.0001, verbose=0)"
      ]
     },
     "execution_count": 27,
     "metadata": {},
     "output_type": "execute_result"
    }
   ],
   "source": [
    "kmeans_model.fit(KMEANS_Data)"
   ]
  },
  {
   "cell_type": "code",
   "execution_count": 44,
   "metadata": {},
   "outputs": [
    {
     "name": "stdout",
     "output_type": "stream",
     "text": [
      "0.5771\n"
     ]
    }
   ],
   "source": [
    "cpy = atlas_labels.to_numpy()\n",
    "counter = 0\n",
    "for i in range(0, len(kmeans_model.labels_)):\n",
    "    if(kmeans_model.labels_[i] == cpy[i]):\n",
    "        counter += 1\n",
    "score = counter / len(kmeans_model.labels_)\n",
    "print(score)"
   ]
  }
 ],
 "metadata": {
  "kernelspec": {
   "display_name": "Python 3",
   "language": "python",
   "name": "python3"
  },
  "language_info": {
   "codemirror_mode": {
    "name": "ipython",
    "version": 3
   },
   "file_extension": ".py",
   "mimetype": "text/x-python",
   "name": "python",
   "nbconvert_exporter": "python",
   "pygments_lexer": "ipython3",
   "version": "3.7.4"
  }
 },
 "nbformat": 4,
 "nbformat_minor": 2
}
